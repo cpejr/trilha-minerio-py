{
 "cells": [
  {
   "cell_type": "code",
   "execution_count": 11,
   "id": "ae8442d6-0e73-49d5-bf18-33afe06b844a",
   "metadata": {},
   "outputs": [],
   "source": [
    "import cv2\n",
    "\n",
    "# Criando um objeto de VideoCapture(para permitir processamento de vídeo)\n",
    "cap = cv2.VideoCapture('simu3.mp4')\n",
    "\n",
    "\n",
    "# Usando o KCF tracker para rastrear objetos\n",
    "tracker = cv2.TrackerKCF_create()\n",
    "\n",
    "# Variável vazia para armazenar objetos a serem rastreados\n",
    "tracked_object = None\n",
    "\n",
    "while True:\n",
    "    # Lendo frame por frame do video\n",
    "    ret, frame = cap.read()\n",
    "\n",
    "    # Se não houver mais frames, quebra o loop\n",
    "    if not ret:\n",
    "        break\n",
    "\n",
    "    # Inicializa o tracker no primeiro frame para poder selecionar objeto a ser rastreado\n",
    "    if tracked_object is None:\n",
    "        bbox = cv2.selectROI(frame, False)\n",
    "        tracker.init(frame, bbox)\n",
    "        tracked_object = bbox\n",
    "\n",
    "    # Atualiza o tracker a cada frame \n",
    "    ret, bbox = tracker.update(frame)\n",
    "\n",
    "    # Desenha retângulo limitando o tracker\n",
    "    if ret:\n",
    "        (x, y, w, h) = tuple(map(int, bbox))\n",
    "        cv2.rectangle(frame, (x, y), (x + w, y + h), (0, 255, 0), 2)\n",
    "\n",
    "        # Localização do objeto rastreado\n",
    "        cv2.putText(frame, f\"Localizacao do objeto (X,Y) : ({x}, {y})\", (10, 30), cv2.FONT_HERSHEY_SIMPLEX, 1, (0, 0, 255), 2)\n",
    "\n",
    "\n",
    "    # Mostra o vídeo \n",
    "    cv2.imshow('Object Tracking', frame)\n",
    "\n",
    "    # Sai do loop se q é pressionado\n",
    "    if cv2.waitKey(5) & 0xFF == ord('q'):\n",
    "        break\n",
    "\n",
    "# Fecha as janelas criadas pelo OpenCV\n",
    "cv2.destroyAllWindows()\n"
   ]
  },
  {
   "cell_type": "code",
   "execution_count": null,
   "id": "eea2347f-71c2-4ed6-b92f-16afe71a81ac",
   "metadata": {},
   "outputs": [],
   "source": []
  }
 ],
 "metadata": {
  "kernelspec": {
   "display_name": "Python 3 (ipykernel)",
   "language": "python",
   "name": "python3"
  },
  "language_info": {
   "codemirror_mode": {
    "name": "ipython",
    "version": 3
   },
   "file_extension": ".py",
   "mimetype": "text/x-python",
   "name": "python",
   "nbconvert_exporter": "python",
   "pygments_lexer": "ipython3",
   "version": "3.9.13"
  }
 },
 "nbformat": 4,
 "nbformat_minor": 5
}
